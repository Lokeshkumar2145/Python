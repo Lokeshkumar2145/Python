{
 "cells": [
  {
   "cell_type": "code",
   "execution_count": 4,
   "id": "9e5010c4",
   "metadata": {},
   "outputs": [
    {
     "name": "stdout",
     "output_type": "stream",
     "text": [
      "enter the firstnamelokesh\n",
      "enter the lastnamekumar\n",
      "hsekol ramuk\n"
     ]
    }
   ],
   "source": [
    "'''1. Write a Python program which accepts the user's first and last name and print them in\n",
    "reverse order with a space between them.'''\n",
    "\n",
    "fn=input(\"enter the firstname\")\n",
    "ln=input(\"enter the lastname\")\n",
    "print(fn[::-1] + \" \" + ln[::-1])"
   ]
  },
  {
   "cell_type": "code",
   "execution_count": 7,
   "id": "060b9ecd",
   "metadata": {},
   "outputs": [
    {
     "name": "stdout",
     "output_type": "stream",
     "text": [
      "enter the sequence of number with comma3,4,5,6,6,7\n",
      "['3', '4', '5', '6', '6', '7']\n",
      "('3', '4', '5', '6', '6', '7')\n"
     ]
    }
   ],
   "source": [
    "'''\n",
    "2. Write a Python program which accepts a sequence of comma-separated numbers from user\n",
    "and generate a list and a tuple with those numbers.\n",
    "Sample data : 3, 5, 7, 23\n",
    "Output :\n",
    "List : ['3', ' 5', ' 7', ' 23']\n",
    "Tuple : ('3', ' 5', ' 7', ' 23')'''\n",
    "\n",
    "str=input(\"enter the sequence of number with comma\")\n",
    "ls=str.split(\",\")\n",
    "print(ls)\n",
    "tu=tuple(ls)\n",
    "print(tu)\n"
   ]
  },
  {
   "cell_type": "code",
   "execution_count": 38,
   "id": "76dea3c1",
   "metadata": {},
   "outputs": [
    {
     "name": "stdout",
     "output_type": "stream",
     "text": [
      "['Red', 'Black']\n"
     ]
    }
   ],
   "source": [
    "'''3. Write a Python program to display the first and last colors from the following list.\n",
    "color_list = [\"Red\",\"Green\",\"White\" ,\"Black\"]'''\n",
    "\n",
    "color_list = [\"Red\",\"Green\",\"White\" ,\"Black\"]\n",
    "print(color_list[::3])\n",
    "\n"
   ]
  },
  {
   "cell_type": "code",
   "execution_count": null,
   "id": "93e0ff02",
   "metadata": {},
   "outputs": [],
   "source": [
    "'''\n",
    "4. Write a Python program to print the documents (syntax, description etc.) of Python built-in\n",
    "function(s).\n",
    "Sample function : abs()\n",
    "Expected Result : mat\n",
    "abs(number) -> number\n",
    "Return the absolute value of the argument.'''"
   ]
  },
  {
   "cell_type": "code",
   "execution_count": 40,
   "id": "c0b97a4f",
   "metadata": {},
   "outputs": [
    {
     "name": "stdout",
     "output_type": "stream",
     "text": [
      "[ 12.23  13.32 100.    36.32]\n"
     ]
    }
   ],
   "source": [
    "'''1. Write a Python program to convert a list of numeric value into a one-dimensional\n",
    "NumPy array.\n",
    "Expected Output:\n",
    "Original List: [12.23, 13.32, 100, 36.32]\n",
    "One-dimensional numpy array: [ 12.23 13.32 100. 36.32]'''\n",
    "\n",
    "import numpy as np\n",
    "\n",
    "ls2=np.array([12.23, 13.32, 100, 36.32])\n",
    "print(ls2)"
   ]
  },
  {
   "cell_type": "code",
   "execution_count": 44,
   "id": "e3eca461",
   "metadata": {},
   "outputs": [
    {
     "name": "stdout",
     "output_type": "stream",
     "text": [
      "[[ 2  3  4]\n",
      " [ 5  6  7]\n",
      " [ 8  9 10]]\n"
     ]
    }
   ],
   "source": [
    "'''2. Create a 3x3 matrix with values ranging from 2 to 10.\n",
    "Expected Output:\n",
    "[[ 2 3 4]\n",
    "[ 5 6 7]\n",
    "[ 8 9 10]]'''\n",
    "\n",
    "import numpy as np\n",
    "\n",
    "ls=np.array([[2,3,4],[5,6,7],[8,9,10]])\n",
    "print(ls)"
   ]
  },
  {
   "cell_type": "code",
   "execution_count": 51,
   "id": "9424c806",
   "metadata": {},
   "outputs": [
    {
     "name": "stdout",
     "output_type": "stream",
     "text": [
      "[0. 0. 0. 0. 0. 0. 0. 0. 0. 0.]\n",
      "[ 0.  0.  0.  0.  0.  0. 11.  0.  0.  0.]\n"
     ]
    }
   ],
   "source": [
    "'''3. Write a Python program to create a null vector of size 10 and update sixth value to 11.\n",
    "[ 0. 0. 0. 0. 0. 0. 0. 0. 0. 0.]\n",
    "Update sixth value to 11\n",
    "[ 0. 0. 0. 0. 0. 0. 11. 0. 0. 0.]'''\n",
    "\n",
    "import numpy as np\n",
    "\n",
    "ls=np.zeros([10])\n",
    "print(ls)\n",
    "ls[6]=11.\n",
    "print(ls)"
   ]
  },
  {
   "cell_type": "code",
   "execution_count": 55,
   "id": "d1a45e5e",
   "metadata": {},
   "outputs": [
    {
     "name": "stdout",
     "output_type": "stream",
     "text": [
      "[37 36 35 34 33 32 31 30 29 28 27 26 25 24 23 22 21 20 19 18 17 16 15 14\n",
      " 13 12]\n"
     ]
    }
   ],
   "source": [
    "'''4. Write a Python program to reverse an array (first element becomes last).\n",
    "Original array:\n",
    "[12 13 14 15 16 17 18 19 20 21 22 23 24 25 26 27 28 29 30 31 32 33 34 35 36 37]\n",
    "Reverse array:\n",
    "[37 36 35 34 33 32 31 30 29 28 27 26 25 24 23 22 21 20 19 18 17 16 15 14 13 12]'''\n",
    "import numpy as np\n",
    "\n",
    "ls=np.array([12, 13, 14, 15, 16, 17, 18, 19, 20, 21, 22, 23, 24, 25 ,26 ,27 ,28, 29 ,30, 31, 32, 33, 34, 35, 36, 37])\n",
    "print(ls[::-1])\n"
   ]
  },
  {
   "cell_type": "code",
   "execution_count": 64,
   "id": "2e00889c",
   "metadata": {},
   "outputs": [
    {
     "name": "stdout",
     "output_type": "stream",
     "text": [
      "[[1. 1. 1. 1. 1.]\n",
      " [1. 0. 0. 0. 1.]\n",
      " [1. 0. 0. 0. 1.]\n",
      " [1. 0. 0. 0. 1.]\n",
      " [1. 1. 1. 1. 1.]]\n"
     ]
    }
   ],
   "source": [
    "'''5. Write a Python program to create a 2d array with 1 on the border and 0 inside.\n",
    "Expected Output:\n",
    "Original array:\n",
    "[[ 1. 1. 1. 1. 1.]\n",
    " [ 1. 1. 1. 1. 1.]\n",
    " [ 1. 1. 1. 1. 1.]\n",
    " [ 1. 1. 1. 1. 1.]\n",
    " [ 1. 1. 1. 1. 1.]]\n",
    " \n",
    "1 on the border and 0 inside in the array\n",
    "[[ 1. 1. 1. 1. 1.]\n",
    "[ 1. 0. 0. 0. 1.]\n",
    "[ 1. 0. 0. 0. 1.]\n",
    "[ 1. 0. 0. 0. 1.]\n",
    "[ 1. 1. 1. 1. 1.]]'''\n",
    "\n",
    "import numpy as np\n",
    "\n",
    "ls=np.ones([5,5])\n",
    "# print(ls)\n",
    "ls[1:-1,1:-1]=0\n",
    "print(ls)"
   ]
  },
  {
   "cell_type": "code",
   "execution_count": 78,
   "id": "29c9426a",
   "metadata": {},
   "outputs": [
    {
     "name": "stdout",
     "output_type": "stream",
     "text": [
      "[[1. 1. 1.]\n",
      " [1. 1. 1.]\n",
      " [1. 1. 1.]]\n",
      "[[7. 7. 7. 7. 7.]\n",
      " [7. 1. 1. 1. 7.]\n",
      " [7. 1. 1. 1. 7.]\n",
      " [7. 1. 1. 1. 7.]\n",
      " [7. 7. 7. 7. 7.]]\n"
     ]
    }
   ],
   "source": [
    "'''6. Write a Python program to add a border (filled with 0's) around an existing array.\n",
    "Expected Output:\n",
    "Original array:\n",
    "[[ 1. 1. 1.]\n",
    "[ 1. 1. 1.]\n",
    "[ 1. 1. 1.]]\n",
    "1 on the border and 0 inside in the array\n",
    "[[ 0. 0. 0. 0. 0.]\n",
    "[ 0. 1. 1. 1. 0.]\n",
    "[ 0. 1. 1. 1. 0.]\n",
    "[ 0. 1. 1. 1. 0.]\n",
    "[ 0. 0. 0. 0. 0.]]'''\n",
    "\n",
    "import numpy as np\n",
    "\n",
    "ls=np.ones([3,3])\n",
    "print(ls)\n",
    "ls2 = np.pad(ls, pad_width=1, mode='constant', constant_values=0)\n",
    "print(ls2)\n"
   ]
  },
  {
   "cell_type": "code",
   "execution_count": 122,
   "id": "956a1ee5",
   "metadata": {},
   "outputs": [
    {
     "name": "stdout",
     "output_type": "stream",
     "text": [
      "[[0. 1. 0. 1. 0. 1. 0. 1.]\n",
      " [1. 0. 1. 0. 1. 0. 1. 0.]\n",
      " [0. 1. 0. 1. 0. 1. 0. 1.]\n",
      " [1. 0. 1. 0. 1. 0. 1. 0.]\n",
      " [0. 1. 0. 1. 0. 1. 0. 1.]\n",
      " [1. 0. 1. 0. 1. 0. 1. 0.]\n",
      " [0. 1. 0. 1. 0. 1. 0. 1.]\n",
      " [1. 0. 1. 0. 1. 0. 1. 0.]]\n"
     ]
    }
   ],
   "source": [
    "'''7. Write a Python program to create a 8x8 matrix and fill it with a checkerboard pattern.\n",
    "Checkerboard pattern:\n",
    "[[0 1 0 1 0 1 0 1]\n",
    "[1 0 1 0 1 0 1 0]\n",
    "[0 1 0 1 0 1 0 1]\n",
    "[1 0 1 0 1 0 1 0]\n",
    "[0 1 0 1 0 1 0 1]\n",
    "[1 0 1 0 1 0 1 0]\n",
    "[0 1 0 1 0 1 0 1]\n",
    "[1 0 1 0 1 0 1 0]]'''\n",
    "\n",
    "import numpy as np\n",
    "\n",
    "ls=np.zeros([8,8])\n",
    "ls[::2,1::2]=1\n",
    "ls[1::2,::2]=1\n",
    "print(ls)"
   ]
  },
  {
   "cell_type": "code",
   "execution_count": 125,
   "id": "f19ce677",
   "metadata": {},
   "outputs": [
    {
     "name": "stdout",
     "output_type": "stream",
     "text": [
      "[1 2 3 4 5 6 7 8]\n",
      "[[8 4 6]\n",
      " [1 2 3]]\n"
     ]
    }
   ],
   "source": [
    "'''8. Write a Python program to convert a list and tuple into arrays.\n",
    "List to array:\n",
    "[1 2 3 4 5 6 7 8]\n",
    "Tuple to array:\n",
    "[[8 4 6]\n",
    "[1 2 3]]'''\n",
    "\n",
    "import numpy as np\n",
    "\n",
    "ls=[1,2,3,4,5,6,7,8]\n",
    "tu=((8,4,6),(1,2,3))\n",
    "arr1=np.array(ls)\n",
    "print(arr1)\n",
    "arr2=np.array(tu)\n",
    "print(arr2)"
   ]
  },
  {
   "cell_type": "code",
   "execution_count": 136,
   "id": "e7677b00",
   "metadata": {},
   "outputs": [
    {
     "name": "stdout",
     "output_type": "stream",
     "text": [
      "[10, 20, 30, 40, 50, 60, 70, 80, 90]\n",
      "[10, 20, 30, 40, 50, 60, 70, 80, 90]\n"
     ]
    }
   ],
   "source": [
    "'''9. Write a Python program to append values to the end of an array.\n",
    "Expected Output:\n",
    "Original array:\n",
    "[10, 20, 30]\n",
    "\n",
    "After append values to the end of the array:\n",
    "[10 20 30 40 50 60 70 80 90]'''\n",
    "\n",
    "import numpy as np\n",
    "\n",
    "arr=np.array([10,20,30])\n",
    "arr1=np.array([40,50,60,70,80,90])\n",
    "ls=list(arr)\n",
    "ls2=list(arr1)\n",
    "for i in range(len(ls2)):\n",
    "    ls.append(ls2[i])\n",
    "arr3=np.array(ls)\n",
    "print(ls)\n"
   ]
  },
  {
   "cell_type": "code",
   "execution_count": 139,
   "id": "92f4d27f",
   "metadata": {},
   "outputs": [
    {
     "name": "stdout",
     "output_type": "stream",
     "text": [
      "[1.         0.70710678]\n",
      "[0.         0.70710678]\n"
     ]
    }
   ],
   "source": [
    "'''10. Write a Python program to find the real and imaginary parts of an array of complex\n",
    "numbers.\n",
    "Expected Output:\n",
    "Original array [1.00000000+0.j, 0.70710678+0.70710678j]\n",
    "Real part of the array:\n",
    "[ 1. 0.70710678]\n",
    "Imaginary part of the array:\n",
    "[ 0. 0.70710678]'''\n",
    "import numpy as np\n",
    "\n",
    "arr=np.array([ 1.00000000+0.j,0.70710678+0.70710678j])\n",
    "real_part = np.real(arr)\n",
    "imaginary_part = np.imag(arr)\n",
    "print(real_part)\n",
    "print(imaginary_part)"
   ]
  },
  {
   "cell_type": "code",
   "execution_count": 169,
   "id": "5b9d303d",
   "metadata": {},
   "outputs": [
    {
     "name": "stdout",
     "output_type": "stream",
     "text": [
      "3\n",
      "8\n",
      "24\n"
     ]
    }
   ],
   "source": [
    "'''11. Write a Python program to find the number of elements of an array, length of one\n",
    "array element in bytes and total bytes consumed by the elements.\n",
    "Expected Output:\n",
    "Size of the array: 3\n",
    "Length of one array element in bytes: 8\n",
    "Total bytes consumed by the elements of the array: 24'''\n",
    "\n",
    "import numpy as np\n",
    "\n",
    "ls=np.array([1,2,3],dtype=\"int64\")\n",
    "print(ls.size)\n",
    "print(ls.itemsize)\n",
    "print(ls.nbytes)\n"
   ]
  },
  {
   "cell_type": "code",
   "execution_count": 170,
   "id": "ff33a12c",
   "metadata": {},
   "outputs": [
    {
     "name": "stdout",
     "output_type": "stream",
     "text": [
      "[10 40]\n"
     ]
    }
   ],
   "source": [
    "'''12. Write a Python program to find common values between two arrays.\n",
    "Expected Output:\n",
    "Array1: [ 0 10 20 40 60]\n",
    "Array2: [10, 30, 40]\n",
    "Common values between two arrays:\n",
    "[10 40]'''\n",
    "import numpy as np\n",
    "arr1=np.array([0,10,20,40,60])\n",
    "arr2=np.array([10,30,40])\n",
    "arr3=np.intersect1d(arr1,arr2)\n",
    "print(arr3)\n",
    "\n"
   ]
  },
  {
   "cell_type": "code",
   "execution_count": 171,
   "id": "22a6f733",
   "metadata": {},
   "outputs": [
    {
     "name": "stdout",
     "output_type": "stream",
     "text": [
      "[ 0 20 60 80]\n"
     ]
    }
   ],
   "source": [
    "'''13. Write a Python program to find the set difference of two arrays. The set difference\n",
    "will return the sorted, unique values in array1 that are not in array2.\n",
    "Expected Output:\n",
    "Array1: [ 0 10 20 40 60 80]\n",
    "Array2: [10, 30, 40, 50, 70, 90]\n",
    "Set difference between two arrays:\n",
    "[ 0 20 60 80]\n",
    "'''\n",
    "\n",
    "array1 = np.array([0, 10, 20, 40, 60, 80])\n",
    "array2 = np.array([10, 30, 40, 50, 70, 90])\n",
    "\n",
    "diff = np.setdiff1d(array1, array2)\n",
    "print(diff)"
   ]
  },
  {
   "cell_type": "code",
   "execution_count": 172,
   "id": "ca8d5b40",
   "metadata": {},
   "outputs": [
    {
     "name": "stdout",
     "output_type": "stream",
     "text": [
      "[ 0 20 30 50 60 70 80]\n"
     ]
    }
   ],
   "source": [
    "'''14. Write a Python program to find the set exclusive-or of two arrays. Set exclusive-or\n",
    "will return the sorted, unique values that are in only one (not both) of the input arrays.\n",
    "Array1: [ 0 10 20 40 60 80]\n",
    "Array2: [10, 30, 40, 50, 70]\n",
    "Unique values that are in only one (not both) of the input arrays:\n",
    "[ 0 20 30 50 60 70 80]'''\n",
    "\n",
    "arr1 = np.array([0, 10, 20, 40, 60, 80])\n",
    "arr2 = np.array([10, 30, 40, 50, 70])\n",
    "arr3=np.setxor1d(arr1,arr2)\n",
    "print(arr3)"
   ]
  },
  {
   "cell_type": "code",
   "execution_count": 174,
   "id": "18452709",
   "metadata": {},
   "outputs": [
    {
     "name": "stdout",
     "output_type": "stream",
     "text": [
      "a > b ---->  [False False]\n",
      "a >= b ---->  [False False]\n",
      "a <= b ---->  [ True  True]\n",
      "a < b ---->  [ True  True]\n"
     ]
    }
   ],
   "source": [
    "'''15. Write a Python program compare two arrays using numpy.\n",
    "Array a: [1 2]\n",
    "Array b: [4 5]\n",
    "a > b\n",
    "[False False]\n",
    "a >= b\n",
    "[False False]\n",
    "a < b\n",
    "[ True True]\n",
    "a <= b\n",
    "[ True True]'''\n",
    "\n",
    "\n",
    "a=np.array([1,2])\n",
    "b=np.array([4,5])\n",
    "greaterthan=(a>b)\n",
    "print(\"a > b ----> \",greaterthan)\n",
    "greater_equal=(a>=b)\n",
    "print(\"a >= b ----> \",greater_equal)\n",
    "lesser_equal=(a<=b)\n",
    "print(\"a <= b ----> \",lesser_equal)\n",
    "lesserthan=(a<b)\n",
    "print(\"a < b ----> \",lesserthan)\n",
    "\n",
    "\n"
   ]
  },
  {
   "cell_type": "code",
   "execution_count": 175,
   "id": "affb33f9",
   "metadata": {},
   "outputs": [
    {
     "name": "stdout",
     "output_type": "stream",
     "text": [
      "saved to text file-->'output.txt'\n"
     ]
    }
   ],
   "source": [
    "'''15. Write a Python program to save a NumPy array to a text file.\n",
    "'''\n",
    "import numpy as np\n",
    "\n",
    "array = np.array([[1, 2, 3], [4, 5, 6], [7, 8, 9]])\n",
    "\n",
    "np.savetxt(\"output.txt\", array, fmt=\"%d\")\n",
    "print(\"saved to text file-->'output.txt'\")"
   ]
  },
  {
   "cell_type": "code",
   "execution_count": 176,
   "id": "e3da9a11",
   "metadata": {},
   "outputs": [
    {
     "name": "stdout",
     "output_type": "stream",
     "text": [
      "[10 20 30 20 40 50]\n"
     ]
    }
   ],
   "source": [
    "'''16. Write a Python program to create a contiguous flattened array.\n",
    "Original array:\n",
    "[[10 20 30]\n",
    "[20 40 50]]\n",
    "New flattened array:\n",
    "[10 20 30 20 40 50]'''\n",
    "\n",
    "arr1=np.array([[10,20,30],[20,40,50]])\n",
    "arr2=np.ravel(arr1)\n",
    "print(arr2)"
   ]
  },
  {
   "cell_type": "code",
   "execution_count": null,
   "id": "c88b4719",
   "metadata": {},
   "outputs": [],
   "source": []
  }
 ],
 "metadata": {
  "kernelspec": {
   "display_name": "Python 3 (ipykernel)",
   "language": "python",
   "name": "python3"
  },
  "language_info": {
   "codemirror_mode": {
    "name": "ipython",
    "version": 3
   },
   "file_extension": ".py",
   "mimetype": "text/x-python",
   "name": "python",
   "nbconvert_exporter": "python",
   "pygments_lexer": "ipython3",
   "version": "3.11.4"
  }
 },
 "nbformat": 4,
 "nbformat_minor": 5
}
